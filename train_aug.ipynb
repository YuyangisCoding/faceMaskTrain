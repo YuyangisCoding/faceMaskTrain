{
 "cells": [
  {
   "cell_type": "code",
   "execution_count": 17,
   "metadata": {
    "collapsed": true
   },
   "outputs": [],
   "source": [
    "import yaml\n",
    "import numpy as np\n",
    "import pandas\n",
    "import torch\n",
    "from sklearn.model_selection import train_test_split\n",
    "from tqdm.auto import tqdm\n",
    "from torch import nn\n",
    "import math\n",
    "import matplotlib.pyplot as plt\n",
    "\n",
    "EPOCHS = 20\n",
    "BATCH_SIZE = 50\n",
    "LR = 0.1\n",
    "WEIGHT_DECAY = 0.08\n",
    "# RANDOM_SEED = 42\n"
   ]
  },
  {
   "cell_type": "code",
   "execution_count": 10,
   "outputs": [],
   "source": [],
   "metadata": {
    "collapsed": false
   }
  },
  {
   "cell_type": "code",
   "execution_count": 11,
   "outputs": [],
   "source": [
    "# load in x_train (augmented 0->199)\n",
    "with open(\"aug_data.yaml\", \"r\") as f:\n",
    "    data_dict = yaml.load(f, Loader=yaml.CBaseLoader)\n",
    "    x_train = np.asarray(list(data_dict.values()))\n",
    "\n",
    "# load in y_train (augmented 0->199)\n",
    "with open(\"aug_data_label.yaml\", \"r\") as f:\n",
    "    data_dict = yaml.load(f, Loader=yaml.CBaseLoader)\n",
    "    y_train = np.asarray(list(data_dict.values()))\n",
    "\n",
    "# load in x_test (original 200->)\n",
    "with open(\"test_data_for_aug.yaml\", \"r\") as f:\n",
    "    data_dict = yaml.load(f, Loader=yaml.CBaseLoader)\n",
    "    x_test = np.asarray(list(data_dict.values()))\n",
    "\n",
    "# load in y_test (original 200->)\n",
    "with open(\"test_label_for_aug.yaml\", \"r\") as f:\n",
    "    data_dict = yaml.load(f, Loader=yaml.CBaseLoader)\n",
    "    y_test = np.asarray(list(data_dict.values()))\n",
    "\n",
    "\n",
    "num_of_features = x_train.shape[1]"
   ],
   "metadata": {
    "collapsed": false
   }
  },
  {
   "cell_type": "code",
   "execution_count": 12,
   "outputs": [],
   "source": [
    "train_data = torch.from_numpy(x_train.astype(np.float32))\n",
    "test_data = torch.from_numpy(x_test.astype(np.float32))\n",
    "train_label = torch.from_numpy(y_train.astype(np.float32)).type(torch.LongTensor)\n",
    "test_label = torch.from_numpy(y_test.astype(np.float32)).type(torch.LongTensor)"
   ],
   "metadata": {
    "collapsed": false
   }
  },
  {
   "cell_type": "code",
   "execution_count": 13,
   "outputs": [
    {
     "data": {
      "text/plain": "372"
     },
     "execution_count": 13,
     "metadata": {},
     "output_type": "execute_result"
    }
   ],
   "source": [
    "train_data.size()[0]\n"
   ],
   "metadata": {
    "collapsed": false
   }
  },
  {
   "cell_type": "code",
   "execution_count": 20,
   "outputs": [],
   "source": [
    "# setup neural network and optimizer&loss\n",
    "features = 20\n",
    "module = nn.Sequential(\n",
    "    nn.Linear(in_features=num_of_features, out_features=features),\n",
    "    nn.ReLU(),\n",
    "    # nn.Dropout(p=0.2),\n",
    "    nn.Linear(in_features=features, out_features=features),\n",
    "    nn.LeakyReLU(),\n",
    "    nn.Linear(in_features=features, out_features=10)\n",
    ")\n",
    "loss_func = nn.CrossEntropyLoss()\n",
    "optimizer = torch.optim.SGD(params=module.parameters(), lr=LR, weight_decay=WEIGHT_DECAY)\n"
   ],
   "metadata": {
    "collapsed": false
   }
  },
  {
   "cell_type": "code",
   "execution_count": 20,
   "outputs": [],
   "source": [],
   "metadata": {
    "collapsed": false
   }
  },
  {
   "cell_type": "code",
   "execution_count": 21,
   "outputs": [
    {
     "data": {
      "text/plain": "  0%|          | 0/20 [00:00<?, ?it/s]",
      "application/vnd.jupyter.widget-view+json": {
       "version_major": 2,
       "version_minor": 0,
       "model_id": "935658fb6eb64b7f8ceb90099342a63b"
      }
     },
     "metadata": {},
     "output_type": "display_data"
    },
    {
     "name": "stdout",
     "output_type": "stream",
     "text": [
      "----------------------epoch0 --------------------\n",
      "train loss:1.91 | train acc:68.01% | test loss:2.16 | test acc:28.92%\n",
      "----------------------epoch1 --------------------\n",
      "train loss:1.34 | train acc:63.98% | test loss:2.01 | test acc:34.94%\n",
      "----------------------epoch2 --------------------\n",
      "train loss:0.93 | train acc:72.04% | test loss:1.95 | test acc:30.12%\n",
      "----------------------epoch3 --------------------\n",
      "train loss:0.70 | train acc:78.76% | test loss:1.95 | test acc:30.12%\n",
      "----------------------epoch4 --------------------\n",
      "train loss:0.58 | train acc:83.06% | test loss:1.97 | test acc:31.33%\n",
      "----------------------epoch5 --------------------\n",
      "train loss:0.48 | train acc:88.71% | test loss:2.00 | test acc:31.33%\n",
      "----------------------epoch6 --------------------\n",
      "train loss:0.41 | train acc:90.05% | test loss:2.02 | test acc:30.12%\n",
      "----------------------epoch7 --------------------\n",
      "train loss:0.35 | train acc:91.13% | test loss:2.04 | test acc:31.33%\n",
      "----------------------epoch8 --------------------\n",
      "train loss:0.31 | train acc:93.01% | test loss:2.05 | test acc:31.33%\n",
      "----------------------epoch9 --------------------\n",
      "train loss:0.27 | train acc:94.09% | test loss:2.07 | test acc:30.12%\n",
      "----------------------epoch10 --------------------\n",
      "train loss:0.25 | train acc:94.89% | test loss:2.08 | test acc:26.51%\n",
      "----------------------epoch11 --------------------\n",
      "train loss:0.23 | train acc:95.43% | test loss:2.08 | test acc:26.51%\n",
      "----------------------epoch12 --------------------\n",
      "train loss:0.21 | train acc:95.70% | test loss:2.09 | test acc:26.51%\n",
      "----------------------epoch13 --------------------\n",
      "train loss:0.20 | train acc:95.70% | test loss:2.10 | test acc:27.71%\n",
      "----------------------epoch14 --------------------\n",
      "train loss:0.19 | train acc:95.70% | test loss:2.10 | test acc:28.92%\n",
      "----------------------epoch15 --------------------\n",
      "train loss:0.18 | train acc:95.97% | test loss:2.11 | test acc:28.92%\n",
      "----------------------epoch16 --------------------\n",
      "train loss:0.18 | train acc:96.24% | test loss:2.11 | test acc:26.51%\n",
      "----------------------epoch17 --------------------\n",
      "train loss:0.17 | train acc:96.24% | test loss:2.12 | test acc:26.51%\n",
      "----------------------epoch18 --------------------\n",
      "train loss:0.17 | train acc:96.51% | test loss:2.12 | test acc:26.51%\n",
      "----------------------epoch19 --------------------\n",
      "train loss:0.17 | train acc:96.51% | test loss:2.12 | test acc:27.71%\n"
     ]
    }
   ],
   "source": [
    "def acc_func( pred:torch.Tensor, true_label:torch.Tensor) -> float:\n",
    "    pred_labels = torch.softmax(pred, dim=1).argmax(dim=1)\n",
    "    return sum(pred_labels == true_label) / len(true_label)\n",
    "\n",
    "# training\n",
    "epochs = EPOCHS\n",
    "batch_size = BATCH_SIZE\n",
    "\n",
    "train_loss = []\n",
    "test_loss = []\n",
    "train_acc = []\n",
    "test_acc = []\n",
    "\n",
    "for epoch in tqdm(range(epochs)):\n",
    "    print(f\"----------------------epoch{epoch} --------------------\")\n",
    "    data_index = 0\n",
    "    for batch_number in range(math.ceil(train_data.size()[0] / batch_size)):\n",
    "        # if batch_number % 10 == 0:\n",
    "        #     print(f\"batch#{batch_number}/{math.ceil(train_data.size()[0] / batch_size)}\")\n",
    "        this_batch_data = train_data[data_index:data_index+batch_size,:]\n",
    "        this_batch_label = train_label[data_index:data_index+batch_size]\n",
    "        data_index = data_index + batch_size\n",
    "        # forward pass\n",
    "        y_pred = module(this_batch_data)\n",
    "        # get loss\n",
    "        loss = loss_func(y_pred, this_batch_label)\n",
    "        # zero grad\n",
    "        optimizer.zero_grad()\n",
    "        # loss back\n",
    "        loss.backward()\n",
    "        # step\n",
    "        optimizer.step()\n",
    "\n",
    "    # end of epoch, making prediction and store summary\n",
    "    with torch.inference_mode():\n",
    "        # train loss\n",
    "        trainloss = loss_func(module(train_data), train_label)\n",
    "        train_loss.append(trainloss)\n",
    "        # train acc\n",
    "        trainacc = acc_func(module(train_data), train_label)\n",
    "        train_acc.append(trainacc)\n",
    "        # test loss\n",
    "        testloss = loss_func(module(test_data), test_label)\n",
    "        test_loss.append(testloss)\n",
    "        # test acc\n",
    "        testacc = acc_func(module(test_data), test_label)\n",
    "        test_acc.append(testacc)\n",
    "        print(f\"train loss:{trainloss:.2f} | \"\n",
    "              f\"train acc:{trainacc*100:.2f}% | \"\n",
    "              f\"test loss:{testloss:.2f} | \"\n",
    "              f\"test acc:{testacc*100:.2f}%\")\n",
    "\n"
   ],
   "metadata": {
    "collapsed": false
   }
  },
  {
   "cell_type": "code",
   "execution_count": 22,
   "outputs": [
    {
     "data": {
      "text/plain": "<Figure size 1000x500 with 2 Axes>",
      "image/png": "[encoded data removed]"
     },
     "metadata": {},
     "output_type": "display_data"
    }
   ],
   "source": [
    "fig = plt.figure(figsize=(10,5))\n",
    "plt.subplot(1,2,1)\n",
    "plt.plot(train_loss)\n",
    "plt.plot(test_loss)\n",
    "plt.legend([\"train loss\", \"test loss\"])\n",
    "plt.subplot(1,2,2)\n",
    "plt.plot(train_acc)\n",
    "plt.plot(test_acc)\n",
    "plt.legend([\"train acc\", \"test acc\"])\n",
    "plt.show()"
   ],
   "metadata": {
    "collapsed": false
   }
  },
  {
   "cell_type": "code",
   "execution_count": 16,
   "outputs": [],
   "source": [],
   "metadata": {
    "collapsed": false
   }
  }
 ],
 "metadata": {
  "kernelspec": {
   "display_name": "Python 3",
   "language": "python",
   "name": "python3"
  },
  "language_info": {
   "codemirror_mode": {
    "name": "ipython",
    "version": 2
   },
   "file_extension": ".py",
   "mimetype": "text/x-python",
   "name": "python",
   "nbconvert_exporter": "python",
   "pygments_lexer": "ipython2",
   "version": "2.7.6"
  }
 },
 "nbformat": 4,
 "nbformat_minor": 0
}
