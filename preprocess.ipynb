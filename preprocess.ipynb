{
 "cells": [
  {
   "cell_type": "code",
   "execution_count": null,
   "metadata": {
    "collapsed": true
   },
   "outputs": [],
   "source": [
    "\"\"\"\n",
    "this notebook converts all alignedFaces into standardized\n",
    "fixed flattened sampling vertices face data\n",
    "save them in a csv file\n",
    "\"\"\"\n",
    "import trimesh\n",
    "import yaml\n",
    "import pathlib\n",
    "from sklearn.preprocessing import StandardScaler\n",
    "import matplotlib.pyplot as plt\n",
    "import pandas\n",
    "import numpy as np"
   ]
  },
  {
   "cell_type": "code",
   "execution_count": 113,
   "outputs": [],
   "source": [
    "NUM_SAMPLES = 2000\n",
    "def preprocess(face_path:str, num_samples=NUM_SAMPLES) -> np.ndarray:\n",
    "    \"\"\"\n",
    "    return standardized fixed sampling vertices of given face in tensor form\n",
    "    keep num_samples small to speed up training\n",
    "    num_samples is ideally less than minimum number of vertices of all given face\n",
    "    so that size of tensor will be consistent\n",
    "    \"\"\"\n",
    "    face = trimesh.load_mesh(face_path)\n",
    "    # try random sampling to reduce points?\n",
    "    face_vertices = face.sample(num_samples)\n",
    "    vertices_tensor = np.asarray(face_vertices)\n",
    "    scaler = StandardScaler()\n",
    "    # standardization\n",
    "    scaled_vertices = scaler.fit_transform(vertices_tensor)\n",
    "    # flatten it?\n",
    "    flattened_scaled_vertices = np.reshape(scaled_vertices, newshape=(3*num_samples))\n",
    "    return flattened_scaled_vertices\n",
    "\n"
   ],
   "metadata": {
    "collapsed": false
   }
  },
  {
   "cell_type": "code",
   "execution_count": 114,
   "outputs": [],
   "source": [
    "\n",
    "def draw_sampled_face(scaled_vertices:np.ndarray):\n",
    "    \"\"\"\n",
    "    visualize 3d point cloud\n",
    "    \"\"\"\n",
    "    scaled_vertices = np.reshape(scaled_vertices, newshape=(NUM_SAMPLES, 3))\n",
    "    x = scaled_vertices[:,0]\n",
    "    y = scaled_vertices[:,1]\n",
    "    z = scaled_vertices[:,2]\n",
    "    ax = plt.axes(projection=\"3d\")\n",
    "    ax.scatter(x,y,z)\n",
    "    ax.set_xlabel('x')\n",
    "    ax.set_ylabel('z')\n",
    "    ax.set_zlabel('y')\n",
    "    plt.show()"
   ],
   "metadata": {
    "collapsed": false
   }
  },
  {
   "cell_type": "code",
   "execution_count": 115,
   "outputs": [],
   "source": [
    "# process all faces\n",
    "path = pathlib.Path(\"alignedFaces/\")\n",
    "pathlist = list(path.glob(\"*.obj\"))\n",
    "data = dict()\n",
    "for face_path in pathlist:\n",
    "    face_tensor = preprocess(face_path, num_samples=NUM_SAMPLES)\n",
    "    data.update({str(face_path.stem): face_tensor})\n"
   ],
   "metadata": {
    "collapsed": false
   }
  },
  {
   "cell_type": "code",
   "execution_count": 119,
   "outputs": [],
   "source": [
    "\n",
    "df  = pandas.DataFrame()\n",
    "df  = df.from_dict(data, orient=\"index\")\n",
    "df.to_csv(\"preprocessed_data.csv\")"
   ],
   "metadata": {
    "collapsed": false
   }
  }
 ],
 "metadata": {
  "kernelspec": {
   "display_name": "Python 3",
   "language": "python",
   "name": "python3"
  },
  "language_info": {
   "codemirror_mode": {
    "name": "ipython",
    "version": 2
   },
   "file_extension": ".py",
   "mimetype": "text/x-python",
   "name": "python",
   "nbconvert_exporter": "python",
   "pygments_lexer": "ipython2",
   "version": "2.7.6"
  }
 },
 "nbformat": 4,
 "nbformat_minor": 0
}
