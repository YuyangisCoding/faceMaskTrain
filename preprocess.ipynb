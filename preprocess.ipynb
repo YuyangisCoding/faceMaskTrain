{
 "cells": [
  {
   "cell_type": "code",
   "execution_count": 21,
   "metadata": {
    "collapsed": true
   },
   "outputs": [],
   "source": [
    "\"\"\"\n",
    "this notebook converts all alignedFaces into standardized\n",
    "fixed flattened sampling vertices face data\n",
    "save them in a csv file\n",
    "FLATTEN ONLY\n",
    "\"\"\"\n",
    "import trimesh\n",
    "from sklearn.preprocessing import StandardScaler\n",
    "import matplotlib.pyplot as plt\n",
    "import pandas\n",
    "import numpy as np"
   ]
  },
  {
   "cell_type": "code",
   "execution_count": 22,
   "outputs": [],
   "source": [
    "NUM_SAMPLES = 20000\n",
    "def preprocess(face_path:str, num_samples=NUM_SAMPLES) -> np.ndarray:\n",
    "    \"\"\"\n",
    "    return standardized fixed sampling vertices of given face in tensor form\n",
    "    keep num_samples small to speed up training\n",
    "    num_samples is ideally less than minimum number of vertices of all given face\n",
    "    so that size of tensor will be consistent\n",
    "    \"\"\"\n",
    "    face = trimesh.load_mesh(face_path)\n",
    "    # try random sampling to reduce points?\n",
    "    face_vertices = face.sample(num_samples)\n",
    "    vertices_tensor = np.asarray(face_vertices)\n",
    "    scaler = StandardScaler()\n",
    "    # standardization\n",
    "    scaled_vertices = scaler.fit_transform(vertices_tensor)\n",
    "    # flatten it?\n",
    "    flattened_scaled_vertices = np.reshape(scaled_vertices, newshape=(3*num_samples))\n",
    "    return flattened_scaled_vertices\n",
    "\n"
   ],
   "metadata": {
    "collapsed": false
   }
  },
  {
   "cell_type": "code",
   "execution_count": 23,
   "outputs": [],
   "source": [
    "\n",
    "def draw_sampled_face(scaled_vertices:np.ndarray):\n",
    "    \"\"\"\n",
    "    visualize 3d point cloud\n",
    "    \"\"\"\n",
    "    scaled_vertices = np.reshape(scaled_vertices, newshape=(NUM_SAMPLES, 3))\n",
    "    x = scaled_vertices[:,0]\n",
    "    y = scaled_vertices[:,1]\n",
    "    z = scaled_vertices[:,2]\n",
    "    ax = plt.axes(projection=\"3d\")\n",
    "    ax.scatter(x,y,z)\n",
    "    ax.set_xlabel('x')\n",
    "    ax.set_ylabel('z')\n",
    "    ax.set_zlabel('y')\n",
    "    plt.show()"
   ],
   "metadata": {
    "collapsed": false
   }
  },
  {
   "cell_type": "code",
   "execution_count": 24,
   "outputs": [],
   "source": [
    "# process all faces\n",
    "all_face_id = [ 'face1', 'face2', 'face3', 'face4', 'face5',\n",
    "         'face6', 'face7', 'face8', 'face11', 'face12',\n",
    "         'face13', 'face14', 'face15', 'face16',\n",
    "         'face17', 'face18', 'face19', 'face20', 'face21',\n",
    "         'face22', 'face23', 'face24', 'face25', 'face26',\n",
    "         'face27', 'face28', 'face29', 'face30', 'face31',\n",
    "         'face32', 'face33', 'face34', 'face35', 'face36',\n",
    "         'face37', 'face38', 'face39', 'face40', 'face41',\n",
    "         'face42', 'face43', 'face44', 'face45', 'face46',\n",
    "         'face47', 'face48', 'face49', 'face50', 'face51',\n",
    "         'face55', 'face56', 'face57', 'face58', 'face59',\n",
    "         'face60', 'face61', 'face62', 'face63', 'face64',\n",
    "         'face65', 'face66', 'face67', 'face68', 'face69',\n",
    "         'face70', 'face71', 'face72', 'face74', 'face75',\n",
    "         'face76', 'face77', 'face78', 'face79', 'face80',\n",
    "         'face81', 'face82', 'face83', 'face84', 'face85',\n",
    "         'face86', 'face87', 'face88', 'face89', 'face90',\n",
    "         'face91', 'face92', 'face93', 'face94', 'face95',\n",
    "         'face96', 'face97', 'face98', 'face99', 'face100',\n",
    "         'face102', 'face103', 'face104', 'face105', 'face106',\n",
    "         'face107', 'face108', 'face109', 'face110', 'face111',\n",
    "         'face112', 'face114', 'face115', 'face116', 'face117',\n",
    "         'face118', 'face119', 'face120', 'face121', 'face122',\n",
    "         'face123', 'face125', 'face126', 'face127', 'face128',\n",
    "         'face129', 'face130', 'face131', 'face132', 'face133',\n",
    "         'face134', 'face135', 'face136', 'face137', 'face138',\n",
    "         'face139', 'face140', 'face141', 'face142', 'face143',\n",
    "         'face144', 'face145', 'face146', 'face147', 'face148',\n",
    "         'face149', 'face150', 'face151', 'face152', 'face153',\n",
    "         'face154', 'face155', 'face156', 'face157', 'face158',\n",
    "         'face159', 'face160', 'face161', 'face162', 'face163',\n",
    "         'face164', 'face165', 'face166', 'face167', 'face168',\n",
    "         'face170', 'face171', 'face172', 'face173', 'face174',\n",
    "         'face175', 'face176', 'face177', 'face178', 'face179',\n",
    "         'face180', 'face182', 'face183', 'face184', 'face185',\n",
    "         'face186', 'face188', 'face189', 'face190', 'face191',\n",
    "         'face192', 'face193', 'face194', 'face195', 'face197',\n",
    "         'face198', 'face199', 'face200', 'face201', 'face202',\n",
    "         'face203', 'face204', 'face205', 'face206', 'face207',\n",
    "         'face208', 'face209', 'face210', 'face211', 'face212',\n",
    "         'face213', 'face214', 'face215', 'face216', 'face217',\n",
    "         'face218', 'face219', 'face220', 'face221', 'face222',\n",
    "         'face223', 'face224', 'face225', 'face226', 'face228',\n",
    "         'face229', 'face230', 'face233', 'face234', 'face235',\n",
    "         'face236', 'face237', 'face238', 'face239', 'face240',\n",
    "         'face242', 'face243', 'face244', 'face245', 'face246',\n",
    "         'face247', 'face248', 'face249', 'face250', 'face251',\n",
    "         'face252', 'face253', 'face254', 'face255', 'face256',\n",
    "         'face257', 'face258', 'face259', 'face260', 'face261',\n",
    "         'face262', 'face263', 'face264', 'face265', 'face266',\n",
    "         'face267', 'face268', 'face269', 'face270', 'face271',\n",
    "         'face272', 'face273', 'face274', 'face276', 'face277',\n",
    "         'face278', 'face279', 'face280', 'face281', 'face282',\n",
    "         'face283', 'face284', 'face285', 'face286', 'face287'\n",
    "]\n",
    "\n",
    "\n",
    "data = dict()\n",
    "for face_file in all_face_id:\n",
    "    path = f\"alignedFaces/{face_file}.obj\"\n",
    "    face_tensor = preprocess(path, num_samples=NUM_SAMPLES)\n",
    "    data.update({face_file: face_tensor})\n"
   ],
   "metadata": {
    "collapsed": false
   }
  },
  {
   "cell_type": "code",
   "execution_count": 25,
   "outputs": [],
   "source": [
    "\n",
    "df  = pandas.DataFrame()\n",
    "df  = df.from_dict(data, orient=\"index\")\n",
    "df.to_csv(\"preprocessed_data.csv\", header=None)"
   ],
   "metadata": {
    "collapsed": false
   }
  }
 ],
 "metadata": {
  "kernelspec": {
   "display_name": "Python 3",
   "language": "python",
   "name": "python3"
  },
  "language_info": {
   "codemirror_mode": {
    "name": "ipython",
    "version": 2
   },
   "file_extension": ".py",
   "mimetype": "text/x-python",
   "name": "python",
   "nbconvert_exporter": "python",
   "pygments_lexer": "ipython2",
   "version": "2.7.6"
  }
 },
 "nbformat": 4,
 "nbformat_minor": 0
}
