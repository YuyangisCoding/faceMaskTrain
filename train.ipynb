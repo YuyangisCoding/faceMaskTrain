{
 "cells": [
  {
   "cell_type": "code",
   "execution_count": 11,
   "metadata": {
    "collapsed": true
   },
   "outputs": [],
   "source": [
    "\"\"\"\n",
    "No augmentation training\n",
    "just flattening\n",
    "\"\"\"\n",
    "\n",
    "import trimesh\n",
    "from sklearn.preprocessing import StandardScaler\n",
    "import numpy as np\n",
    "\n",
    "NUM_SAMPLES = 20000\n",
    "\n",
    "\n",
    "def preprocess(face_path: str, num_samples=NUM_SAMPLES) -> np.ndarray:\n",
    "    \"\"\"\n",
    "    return standardized fixed sampling vertices of given face in tensor form\n",
    "    keep num_samples small to speed up training\n",
    "    num_samples is ideally less than minimum number of vertices of all given face\n",
    "    so that size of tensor will be consistent\n",
    "    \"\"\"\n",
    "    face = trimesh.load_mesh(face_path)\n",
    "    # try random sampling to reduce points?\n",
    "    face_vertices = face.sample(num_samples)\n",
    "    vertices_tensor = np.asarray(face_vertices)\n",
    "    scaler = StandardScaler()\n",
    "    # standardization\n",
    "    scaled_vertices = scaler.fit_transform(vertices_tensor)\n",
    "    # flatten it?\n",
    "    flattened_scaled_vertices = np.reshape(scaled_vertices, newshape=(3 * num_samples))\n",
    "    return flattened_scaled_vertices\n",
    "\n",
    "\n",
    "def draw_sampled_face(scaled_vertices: np.ndarray):\n",
    "    \"\"\"\n",
    "    visualize 3d point cloud\n",
    "    \"\"\"\n",
    "    scaled_vertices = np.reshape(scaled_vertices, newshape=(NUM_SAMPLES, 3))\n",
    "    x = scaled_vertices[:, 0]\n",
    "    y = scaled_vertices[:, 1]\n",
    "    z = scaled_vertices[:, 2]\n",
    "    ax = plt.axes(projection=\"3d\")\n",
    "    ax.scatter(x, y, z)\n",
    "    ax.set_xlabel('x')\n",
    "    ax.set_ylabel('z')\n",
    "    ax.set_zlabel('y')\n",
    "    plt.show()\n",
    "\n",
    "\n",
    "# process all faces\n",
    "all_face_id = ['face1', 'face2', 'face3', 'face4', 'face5',\n",
    "               'face6', 'face7', 'face8', 'face11', 'face12',\n",
    "               'face13', 'face14', 'face15', 'face16',\n",
    "               'face17', 'face18', 'face19', 'face20', 'face21',\n",
    "               'face22', 'face23', 'face24', 'face25', 'face26',\n",
    "               'face27', 'face28', 'face29', 'face30', 'face31',\n",
    "               'face32', 'face33', 'face34', 'face35', 'face36',\n",
    "               'face37', 'face38', 'face39', 'face40', 'face41',\n",
    "               'face42', 'face43', 'face44', 'face45', 'face46',\n",
    "               'face47', 'face48', 'face49', 'face50', 'face51',\n",
    "               'face55', 'face56', 'face57', 'face58', 'face59',\n",
    "               'face60', 'face61', 'face62', 'face63', 'face64',\n",
    "               'face65', 'face66', 'face67', 'face68', 'face69',\n",
    "               'face70', 'face71', 'face72', 'face74', 'face75',\n",
    "               'face76', 'face77', 'face78', 'face79', 'face80',\n",
    "               'face81', 'face82', 'face83', 'face84', 'face85',\n",
    "               'face86', 'face87', 'face88', 'face89', 'face90',\n",
    "               'face91', 'face92', 'face93', 'face94', 'face95',\n",
    "               'face96', 'face97', 'face98', 'face99', 'face100',\n",
    "               'face102', 'face103', 'face104', 'face105', 'face106',\n",
    "               'face107', 'face108', 'face109', 'face110', 'face111',\n",
    "               'face112', 'face114', 'face115', 'face116', 'face117',\n",
    "               'face118', 'face119', 'face120', 'face121', 'face122',\n",
    "               'face123', 'face125', 'face126', 'face127', 'face128',\n",
    "               'face129', 'face130', 'face131', 'face132', 'face133',\n",
    "               'face134', 'face135', 'face136', 'face137', 'face138',\n",
    "               'face139', 'face140', 'face141', 'face142', 'face143',\n",
    "               'face144', 'face145', 'face146', 'face147', 'face148',\n",
    "               'face149', 'face150', 'face151', 'face152', 'face153',\n",
    "               'face154', 'face155', 'face156', 'face157', 'face158',\n",
    "               'face159', 'face160', 'face161', 'face162', 'face163',\n",
    "               'face164', 'face165', 'face166', 'face167', 'face168',\n",
    "               'face170', 'face171', 'face172', 'face173', 'face174',\n",
    "               'face175', 'face176', 'face177', 'face178', 'face179',\n",
    "               'face180', 'face182', 'face183', 'face184', 'face185',\n",
    "               'face186', 'face188', 'face189', 'face190', 'face191',\n",
    "               'face192', 'face193', 'face194', 'face195', 'face197',\n",
    "               'face198', 'face199', 'face200', 'face201', 'face202',\n",
    "               'face203', 'face204', 'face205', 'face206', 'face207',\n",
    "               'face208', 'face209', 'face210', 'face211', 'face212',\n",
    "               'face213', 'face214', 'face215', 'face216', 'face217',\n",
    "               'face218', 'face219', 'face220', 'face221', 'face222',\n",
    "               'face223', 'face224', 'face225', 'face226', 'face228',\n",
    "               'face229', 'face230', 'face233', 'face234', 'face235',\n",
    "               'face236', 'face237', 'face238', 'face239', 'face240',\n",
    "               'face242', 'face243', 'face244', 'face245', 'face246',\n",
    "               'face247', 'face248', 'face249', 'face250', 'face251',\n",
    "               'face252', 'face253', 'face254', 'face255', 'face256',\n",
    "               'face257', 'face258', 'face259', 'face260', 'face261',\n",
    "               'face262', 'face263', 'face264', 'face265', 'face266',\n",
    "               'face267', 'face268', 'face269', 'face270', 'face271',\n",
    "               'face272', 'face273', 'face274', 'face276', 'face277',\n",
    "               'face278', 'face279', 'face280', 'face281', 'face282',\n",
    "               'face283', 'face284', 'face285', 'face286', 'face287'\n",
    "               ]\n",
    "\n",
    "data = dict()\n",
    "for face_file in all_face_id:\n",
    "    path = f\"alignedFaces/{face_file}.obj\"\n",
    "    face_tensor = preprocess(path, num_samples=NUM_SAMPLES)\n",
    "    data.update({face_file: face_tensor})\n"
   ]
  },
  {
   "cell_type": "code",
   "execution_count": 12,
   "outputs": [],
   "source": [
    "import yaml\n",
    "import numpy as np\n",
    "import pandas\n",
    "import torch\n",
    "from sklearn.model_selection import train_test_split\n",
    "from tqdm.auto import tqdm\n",
    "from torch import nn\n",
    "import math\n",
    "import matplotlib.pyplot as plt\n",
    "\n",
    "EPOCHS = 10\n",
    "BATCH_SIZE = 50\n",
    "LR = 0.1\n",
    "WEIGHT_DECAY = 0.08\n",
    "# RANDOM_SEED = 42"
   ],
   "metadata": {
    "collapsed": false
   }
  },
  {
   "cell_type": "code",
   "execution_count": 13,
   "outputs": [],
   "source": [
    "# load in data\n",
    "face_data = np.asarray(list(data.values()))\n",
    "# load in label\n",
    "with open(\"labels.yaml\") as f:\n",
    "    label = yaml.load(f, Loader=yaml.CLoader)\n",
    "\n",
    "class_labels = np.asarray(list(label[\"labels\"]))\n",
    "\n",
    "# separate training and testing data\n",
    "x_train, x_test, y_train, y_label = train_test_split(\n",
    "    face_data, class_labels,\n",
    "    train_size=0.8,\n",
    "    shuffle=True\n",
    ")\n",
    "num_of_features = x_train.shape[1]"
   ],
   "metadata": {
    "collapsed": false
   }
  },
  {
   "cell_type": "code",
   "execution_count": 14,
   "outputs": [],
   "source": [
    "train_data = torch.from_numpy(x_train.astype(np.float32))\n",
    "test_data = torch.from_numpy(x_test.astype(np.float32))\n",
    "train_label = torch.from_numpy(y_train.astype(np.float32)).type(torch.LongTensor)\n",
    "test_label = torch.from_numpy(y_label.astype(np.float32)).type(torch.LongTensor)"
   ],
   "metadata": {
    "collapsed": false
   }
  },
  {
   "cell_type": "code",
   "execution_count": 15,
   "outputs": [
    {
     "data": {
      "text/plain": "215"
     },
     "execution_count": 15,
     "metadata": {},
     "output_type": "execute_result"
    }
   ],
   "source": [
    "train_data.size()[0]\n"
   ],
   "metadata": {
    "collapsed": false
   }
  },
  {
   "cell_type": "code",
   "execution_count": 16,
   "outputs": [],
   "source": [
    "# setup neural network and optimizer&loss\n",
    "features = 20\n",
    "module = nn.Sequential(\n",
    "    nn.Linear(in_features=num_of_features, out_features=features),\n",
    "    nn.ReLU(),\n",
    "    # nn.Dropout(p=0.2),\n",
    "    nn.Linear(in_features=features, out_features=features),\n",
    "    nn.LeakyReLU(),\n",
    "    nn.Linear(in_features=features, out_features=10)\n",
    ")\n",
    "loss_func = nn.CrossEntropyLoss()\n",
    "optimizer = torch.optim.SGD(params=module.parameters(), lr=LR, weight_decay=WEIGHT_DECAY)\n"
   ],
   "metadata": {
    "collapsed": false
   }
  },
  {
   "cell_type": "code",
   "execution_count": 16,
   "outputs": [],
   "source": [],
   "metadata": {
    "collapsed": false
   }
  },
  {
   "cell_type": "code",
   "execution_count": 17,
   "outputs": [
    {
     "name": "stdout",
     "output_type": "stream",
     "text": [
      "init train loss:2.31 | init train acc:6.05% | init test loss:2.32 | init test acc:1.85%\n"
     ]
    },
    {
     "data": {
      "text/plain": "  0%|          | 0/10 [00:00<?, ?it/s]",
      "application/vnd.jupyter.widget-view+json": {
       "version_major": 2,
       "version_minor": 0,
       "model_id": "a655eecefb4b427d938abf7072fdbcda"
      }
     },
     "metadata": {},
     "output_type": "display_data"
    },
    {
     "name": "stdout",
     "output_type": "stream",
     "text": [
      "----------------------epoch0 --------------------\n",
      "train loss:1.64 | train acc:54.42% | test loss:2.24 | test acc:29.63%\n",
      "----------------------epoch1 --------------------\n",
      "train loss:1.10 | train acc:62.33% | test loss:2.21 | test acc:29.63%\n",
      "----------------------epoch2 --------------------\n",
      "train loss:1.08 | train acc:63.72% | test loss:2.21 | test acc:27.78%\n",
      "----------------------epoch3 --------------------\n",
      "train loss:1.04 | train acc:63.72% | test loss:2.22 | test acc:22.22%\n",
      "----------------------epoch4 --------------------\n",
      "train loss:0.32 | train acc:91.63% | test loss:2.16 | test acc:31.48%\n",
      "----------------------epoch5 --------------------\n",
      "train loss:0.24 | train acc:94.42% | test loss:2.17 | test acc:29.63%\n",
      "----------------------epoch6 --------------------\n",
      "train loss:0.20 | train acc:95.81% | test loss:2.17 | test acc:29.63%\n",
      "----------------------epoch7 --------------------\n",
      "train loss:0.17 | train acc:96.74% | test loss:2.18 | test acc:31.48%\n",
      "----------------------epoch8 --------------------\n",
      "train loss:0.16 | train acc:96.74% | test loss:2.18 | test acc:31.48%\n",
      "----------------------epoch9 --------------------\n",
      "train loss:0.15 | train acc:97.21% | test loss:2.19 | test acc:31.48%\n"
     ]
    }
   ],
   "source": [
    "def acc_func( pred:torch.Tensor, true_label:torch.Tensor) -> float:\n",
    "    pred_labels = torch.softmax(pred, dim=1).argmax(dim=1)\n",
    "    return sum(pred_labels == true_label) / len(true_label)\n",
    "\n",
    "# training\n",
    "epochs = EPOCHS\n",
    "batch_size = BATCH_SIZE\n",
    "\n",
    "train_loss = []\n",
    "test_loss = []\n",
    "train_acc = []\n",
    "test_acc = []\n",
    "\n",
    "\n",
    "# ---------------original---------------\n",
    "with torch.inference_mode():\n",
    "        # train loss\n",
    "        trainloss = loss_func(module(train_data), train_label)\n",
    "        train_loss.append(trainloss)\n",
    "        # train acc\n",
    "        trainacc = acc_func(module(train_data), train_label)\n",
    "        train_acc.append(trainacc)\n",
    "        # test loss\n",
    "        testloss = loss_func(module(test_data), test_label)\n",
    "        test_loss.append(testloss)\n",
    "        # test acc\n",
    "        testacc = acc_func(module(test_data), test_label)\n",
    "        test_acc.append(testacc)\n",
    "        print(f\"init train loss:{trainloss:.2f} | \"\n",
    "              f\"init train acc:{trainacc * 100:.2f}% | \"\n",
    "              f\"init test loss:{testloss:.2f} | \"\n",
    "              f\"init test acc:{testacc * 100:.2f}%\")\n",
    "\n",
    "# ---------------------------------------\n",
    "\n",
    "for epoch in tqdm(range(epochs)):\n",
    "    print(f\"----------------------epoch{epoch} --------------------\")\n",
    "    data_index = 0\n",
    "    for batch_number in range(math.ceil(train_data.size()[0] / batch_size)):\n",
    "        # if batch_number % 10 == 0:\n",
    "        #     print(f\"batch#{batch_number}/{math.ceil(train_data.size()[0] / batch_size)}\")\n",
    "        this_batch_data = train_data[data_index:data_index+batch_size,:]\n",
    "        this_batch_label = train_label[data_index:data_index+batch_size]\n",
    "        data_index = data_index + batch_size\n",
    "        # forward pass\n",
    "        y_pred = module(this_batch_data)\n",
    "        # get loss\n",
    "        loss = loss_func(y_pred, this_batch_label)\n",
    "        # zero grad\n",
    "        optimizer.zero_grad()\n",
    "        # loss back\n",
    "        loss.backward()\n",
    "        # step\n",
    "        optimizer.step()\n",
    "\n",
    "    # end of epoch, making prediction and store summary\n",
    "    with torch.inference_mode():\n",
    "        # train loss\n",
    "        trainloss = loss_func(module(train_data), train_label)\n",
    "        train_loss.append(trainloss)\n",
    "        # train acc\n",
    "        trainacc = acc_func(module(train_data), train_label)\n",
    "        train_acc.append(trainacc)\n",
    "        # test loss\n",
    "        testloss = loss_func(module(test_data), test_label)\n",
    "        test_loss.append(testloss)\n",
    "        # test acc\n",
    "        testacc = acc_func(module(test_data), test_label)\n",
    "        test_acc.append(testacc)\n",
    "        print(f\"train loss:{trainloss:.2f} | \"\n",
    "              f\"train acc:{trainacc*100:.2f}% | \"\n",
    "              f\"test loss:{testloss:.2f} | \"\n",
    "              f\"test acc:{testacc*100:.2f}%\")\n",
    "\n"
   ],
   "metadata": {
    "collapsed": false
   }
  },
  {
   "cell_type": "code",
   "execution_count": 18,
   "outputs": [
    {
     "data": {
      "text/plain": "<Figure size 1000x500 with 2 Axes>",
      "image/png": "[encoded data removed]"
     },
     "metadata": {},
     "output_type": "display_data"
    }
   ],
   "source": [
    "fig = plt.figure(figsize=(10,5))\n",
    "plt.subplot(1,2,1)\n",
    "plt.plot(train_loss)\n",
    "plt.plot(test_loss)\n",
    "plt.legend([\"train loss\", \"test loss\"])\n",
    "plt.subplot(1,2,2)\n",
    "plt.plot(train_acc)\n",
    "plt.plot(test_acc)\n",
    "plt.legend([\"train acc\", \"test acc\"])\n",
    "plt.show()"
   ],
   "metadata": {
    "collapsed": false
   }
  },
  {
   "cell_type": "code",
   "execution_count": 18,
   "outputs": [],
   "source": [],
   "metadata": {
    "collapsed": false
   }
  }
 ],
 "metadata": {
  "kernelspec": {
   "display_name": "Python 3",
   "language": "python",
   "name": "python3"
  },
  "language_info": {
   "codemirror_mode": {
    "name": "ipython",
    "version": 2
   },
   "file_extension": ".py",
   "mimetype": "text/x-python",
   "name": "python",
   "nbconvert_exporter": "python",
   "pygments_lexer": "ipython2",
   "version": "2.7.6"
  }
 },
 "nbformat": 4,
 "nbformat_minor": 0
}
